{
 "cells": [
  {
   "cell_type": "code",
   "execution_count": 36,
   "metadata": {},
   "outputs": [
    {
     "name": "stderr",
     "output_type": "stream",
     "text": [
      "/tmp/ipykernel_64664/3163312150.py:29: UserWarning: pandas only supports SQLAlchemy connectable (engine/connection) or database string URI or sqlite3 DBAPI2 connection. Other DBAPI2 objects are not tested. Please consider using SQLAlchemy.\n",
      "  pandas_df = pd.read_sql(query, mydb)\n"
     ]
    },
    {
     "name": "stdout",
     "output_type": "stream",
     "text": [
      "('CDMX', 26.0, 26.0, 26.0, 26.0, 36.5, 36.5, 36.5, 36.5, '140620232102')\n",
      "('MTY', 36.0, 36.0, 36.0, 36.0, 37.0, 37.0, 37.0, 37.0, '140620232102')\n",
      "('MER', 33.0, 33.0, 33.0, 33.0, 49.4, 49.4, 49.4, 49.4, '140620232102')\n",
      "[('CDMX', 26.0, 26.0, 26.0, 26.0, 36.5, 36.5, 36.5, 36.5, '140620232102'), ('MTY', 36.0, 36.0, 36.0, 36.0, 37.0, 37.0, 37.0, 37.0, '140620232102'), ('MER', 33.0, 33.0, 33.0, 33.0, 49.4, 49.4, 49.4, 49.4, '140620232102')]\n"
     ]
    }
   ],
   "source": [
    "import mysql.connector as connection\n",
    "import pandas as pd\n",
    "from mysql.connector import Error\n",
    "from pyspark.sql import SparkSession\n",
    "import pyspark\n",
    "\n",
    "appName = \"PySpark MySQL - parquet\"\n",
    "master = \"local\"\n",
    "\n",
    "spark = SparkSession.builder.master(master).appName(appName).getOrCreate()\n",
    "\n",
    "# Base de datos\n",
    "db_name = 'prueba'\n",
    "\n",
    "# Ingresar contraseña\n",
    "pw = '360Donaldo'\n",
    "\n",
    "ciudades = ['CDMX', 'MTY', 'MER']\n",
    "\n",
    "data = []\n",
    "\n",
    "for ciudad in ciudades:\n",
    "    try:\n",
    "        mydb = connection.connect(host=\"localhost\", database = db_name ,user=\"donaldo\", passwd=pw ,use_pure=True)\n",
    "        query = \"\"\"SELECT Datos.ciudad_id, Datos.respuesta_id, Datos.temperatura_actual, Datos.humedad_relativa\n",
    "                FROM Datos\n",
    "                WHERE Datos.ciudad_id = {}\n",
    "                ORDER BY Datos.respuesta_id;\"\"\".format('\"'+ciudad+'\"')\n",
    "        pandas_df = pd.read_sql(query, mydb)\n",
    "        mydb.close() #close the connection\n",
    "\n",
    "    except Error as err:\n",
    "        print(f\"Error: '{err}' \")\n",
    "\n",
    "\n",
    "    # Convert Pandas dataframe to spark DataFrame\n",
    "    df = spark.createDataFrame(pandas_df)\n",
    "\n",
    "    # %%\n",
    "    variables = [\"temperatura_actual\", \"humedad_relativa\"]\n",
    "\n",
    "    aux = 2\n",
    "\n",
    "    data_ciudad = [[df.collect()[-1][0]]]\n",
    "\n",
    "    for variable in variables:\n",
    "\n",
    "        max_var = df.agg({variable: \"max\"}).collect()[0]\n",
    "        var_max = max_var[\"max({})\".format(variable)]\n",
    "\n",
    "        min_var = df.agg({variable: \"min\"}).collect()[0]\n",
    "        var_min = min_var[\"min({})\".format(variable)]\n",
    "\n",
    "        avg_var = df.agg({variable: \"avg\"}).collect()[0]\n",
    "        var_avg = avg_var[\"avg({})\".format(variable)]\n",
    "\n",
    "        var_current = df.collect()[-1][aux]\n",
    "        aux+=1\n",
    "\n",
    "        data_ciudad.append([var_max, var_min, var_avg, var_current])\n",
    "\n",
    "    data_ciudad.append([df.collect()[-1][1].split('-')[1]])\n",
    "    data_ciudad = tuple([item for sublist in data_ciudad for item in sublist])\n",
    "\n",
    "    print(data_ciudad)\n",
    "\n",
    "    data.append(data_ciudad)\n",
    "\n",
    "\n",
    "print(data)"
   ]
  },
  {
   "cell_type": "code",
   "execution_count": 37,
   "metadata": {},
   "outputs": [],
   "source": [
    "#spark=SparkSession.builder.appName(\"parquetFile\").getOrCreate()\n",
    "columns=[\"ciudad\",\"temperatura_max\",\"temperatura_min\",\"temperatura_prom\",\"temperatura_actual\",\n",
    "         \"humedad_max\",\"humedad_min\",\"humedad_prom\",\"humedad_actual\", \"corrida\"]\n",
    "df_parquet=spark.createDataFrame(data, columns)\n",
    "df_parquet.write.mode(\"overwrite\").parquet('./parquet/clima.parquet')"
   ]
  },
  {
   "cell_type": "code",
   "execution_count": 38,
   "metadata": {},
   "outputs": [
    {
     "name": "stdout",
     "output_type": "stream",
     "text": [
      "+------+---------------+---------------+----------------+------------------+-----------+-----------+------------+--------------+------------+\n",
      "|ciudad|temperatura_max|temperatura_min|temperatura_prom|temperatura_actual|humedad_max|humedad_min|humedad_prom|humedad_actual|     corrida|\n",
      "+------+---------------+---------------+----------------+------------------+-----------+-----------+------------+--------------+------------+\n",
      "|  CDMX|           26.0|           26.0|            26.0|              26.0|       36.5|       36.5|        36.5|          36.5|140620232102|\n",
      "|   MTY|           36.0|           36.0|            36.0|              36.0|       37.0|       37.0|        37.0|          37.0|140620232102|\n",
      "|   MER|           33.0|           33.0|            33.0|              33.0|       49.4|       49.4|        49.4|          49.4|140620232102|\n",
      "+------+---------------+---------------+----------------+------------------+-----------+-----------+------------+--------------+------------+\n",
      "\n"
     ]
    }
   ],
   "source": [
    "df_parquet.show()"
   ]
  },
  {
   "cell_type": "code",
   "execution_count": 39,
   "metadata": {},
   "outputs": [],
   "source": [
    "df_parquet.write.mode('append').parquet(\"./parquet/clima.parquet\")"
   ]
  },
  {
   "cell_type": "code",
   "execution_count": 45,
   "metadata": {},
   "outputs": [],
   "source": [
    "parDF=spark.read.parquet(\"./parquet/clima.parquet/corrida=140620232058\")"
   ]
  },
  {
   "cell_type": "code",
   "execution_count": 46,
   "metadata": {},
   "outputs": [
    {
     "name": "stdout",
     "output_type": "stream",
     "text": [
      "+------+---------------+---------------+----------------+------------------+-----------+-----------+------------+--------------+\n",
      "|ciudad|temperatura_max|temperatura_min|temperatura_prom|temperatura_actual|humedad_max|humedad_min|humedad_prom|humedad_actual|\n",
      "+------+---------------+---------------+----------------+------------------+-----------+-----------+------------+--------------+\n",
      "|  CDMX|           26.0|           26.0|            26.0|              26.0|       36.5|       36.5|        36.5|          36.5|\n",
      "|   MTY|           36.0|           36.0|            36.0|              36.0|       37.0|       37.0|        37.0|          37.0|\n",
      "|   MER|           33.0|           33.0|            33.0|              33.0|       49.4|       49.4|        49.4|          49.4|\n",
      "|  CDMX|           26.0|           26.0|            26.0|              26.0|       36.5|       36.5|        36.5|          36.5|\n",
      "|   MTY|           36.0|           36.0|            36.0|              36.0|       37.0|       37.0|        37.0|          37.0|\n",
      "|   MER|           33.0|           33.0|            33.0|              33.0|       49.4|       49.4|        49.4|          49.4|\n",
      "+------+---------------+---------------+----------------+------------------+-----------+-----------+------------+--------------+\n",
      "\n"
     ]
    }
   ],
   "source": [
    "parDF.show()"
   ]
  },
  {
   "cell_type": "code",
   "execution_count": 42,
   "metadata": {},
   "outputs": [],
   "source": [
    "\n",
    "df_parquet.write.partitionBy(\"corrida\").mode(\"append\").parquet(\"./parquet/clima.parquet\")"
   ]
  },
  {
   "cell_type": "code",
   "execution_count": 49,
   "metadata": {},
   "outputs": [
    {
     "data": {
      "text/plain": [
       "True"
      ]
     },
     "execution_count": 49,
     "metadata": {},
     "output_type": "execute_result"
    }
   ],
   "source": [
    "import os\n",
    "not os.listdir('./parquet')"
   ]
  },
  {
   "cell_type": "code",
   "execution_count": 51,
   "metadata": {},
   "outputs": [
    {
     "name": "stdout",
     "output_type": "stream",
     "text": [
      "+------+---------------+---------------+----------------+------------------+-----------+-----------+------------+--------------+\n",
      "|ciudad|temperatura_max|temperatura_min|temperatura_prom|temperatura_actual|humedad_max|humedad_min|humedad_prom|humedad_actual|\n",
      "+------+---------------+---------------+----------------+------------------+-----------+-----------+------------+--------------+\n",
      "|  CDMX|           26.0|           26.0|            26.0|              26.0|       36.5|       36.5|        36.5|          36.5|\n",
      "|   MTY|           36.0|           36.0|            36.0|              36.0|       37.0|       37.0|        37.0|          37.0|\n",
      "|   MER|           33.0|           33.0|            33.0|              33.0|       49.4|       49.4|        49.4|          49.4|\n",
      "+------+---------------+---------------+----------------+------------------+-----------+-----------+------------+--------------+\n",
      "\n"
     ]
    }
   ],
   "source": [
    "parDF=spark.read.parquet(\"./parquet/clima.parquet/corrida=140620232102\")\n",
    "\n",
    "parDF.show()"
   ]
  },
  {
   "cell_type": "code",
   "execution_count": 53,
   "metadata": {},
   "outputs": [
    {
     "name": "stdout",
     "output_type": "stream",
     "text": [
      "+------+---------------+---------------+------------------+------------------+-----------+-----------+------------------+--------------+------------+\n",
      "|ciudad|temperatura_max|temperatura_min|  temperatura_prom|temperatura_actual|humedad_max|humedad_min|      humedad_prom|humedad_actual|     corrida|\n",
      "+------+---------------+---------------+------------------+------------------+-----------+-----------+------------------+--------------+------------+\n",
      "|  CDMX|           26.0|           25.0|25.714285714285715|              25.0|       38.8|       36.5| 37.15714285714286|          38.8|140620232149|\n",
      "|   MTY|           36.0|           34.0| 35.42857142857143|              34.0|       38.8|       37.0| 37.51428571428572|          38.8|140620232149|\n",
      "|   MER|           33.0|           32.0|32.714285714285715|              32.0|       52.3|       49.4|50.228571428571435|          52.3|140620232149|\n",
      "|  CDMX|           26.0|           25.0|25.833333333333332|              25.0|       38.8|       36.5| 36.88333333333333|          38.8|140620232147|\n",
      "|   MTY|           36.0|           34.0|35.666666666666664|              34.0|       38.8|       37.0|37.300000000000004|          38.8|140620232147|\n",
      "|   MER|           33.0|           32.0|32.833333333333336|              32.0|       52.3|       49.4| 49.88333333333333|          52.3|140620232147|\n",
      "|  CDMX|           26.0|           25.0|            25.625|              25.0|       38.8|       36.5|37.362500000000004|          38.8|140620232222|\n",
      "|   MTY|           36.0|           34.0|             35.25|              34.0|       38.8|       37.0|37.675000000000004|          38.8|140620232222|\n",
      "|   MER|           33.0|           32.0|            32.625|              32.0|       52.3|       49.4|50.487500000000004|          52.3|140620232222|\n",
      "|  CDMX|           26.0|           26.0|              26.0|              26.0|       36.5|       36.5|              36.5|          36.5|140620232102|\n",
      "|   MTY|           36.0|           36.0|              36.0|              36.0|       37.0|       37.0|              37.0|          37.0|140620232102|\n",
      "|   MER|           33.0|           33.0|              33.0|              33.0|       49.4|       49.4|              49.4|          49.4|140620232102|\n",
      "+------+---------------+---------------+------------------+------------------+-----------+-----------+------------------+--------------+------------+\n",
      "\n"
     ]
    }
   ],
   "source": [
    "parDF=spark.read.parquet(\"./parquet/clima.parquet\")\n",
    "\n",
    "parDF.show()"
   ]
  },
  {
   "cell_type": "code",
   "execution_count": null,
   "metadata": {},
   "outputs": [],
   "source": []
  }
 ],
 "metadata": {
  "kernelspec": {
   "display_name": "dd360",
   "language": "python",
   "name": "python3"
  },
  "language_info": {
   "codemirror_mode": {
    "name": "ipython",
    "version": 3
   },
   "file_extension": ".py",
   "mimetype": "text/x-python",
   "name": "python",
   "nbconvert_exporter": "python",
   "pygments_lexer": "ipython3",
   "version": "3.8.10"
  },
  "orig_nbformat": 4
 },
 "nbformat": 4,
 "nbformat_minor": 2
}
